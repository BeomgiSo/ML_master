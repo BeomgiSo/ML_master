{
 "cells": [
  {
   "attachments": {},
   "cell_type": "markdown",
   "metadata": {},
   "source": [
    "## Classification\n",
    "\n",
    "- 지도학습 : 레이블 즉 정답이 있는 데이터가 주어진 상태에서 학습하는 머신러닝 방식\n",
    "- 지도학습의 대표적인 유형은 분류\n",
    "- 기존의 데이터가 어떤 레이블에 속하는지 패턴을 알고리즘으로 인지한 뒤에 새롭게 관측된 데이터의 레이블을 판별\n",
    "\n",
    "## 분류에 대한 다양한 머신러닝 알고리즘 구현\n",
    "\n",
    "1. __Nave Bayes__ : 베이즈 통계화 생성 모델에 기반한 나이브 베이즈\n",
    "1. __Logistic Regression__ : 독립션수와 종속변수의 선형 관계성을 기반한 로지스틱 회귀\n",
    "1. __Deision Tree__ : 데이터 균일도에 따른 규칙기반의 결정 트리\n",
    "1. __Support Vector Machine__ : 개별 클래스 간의 최대 분류 마진을 효과적으로 찾아주는 서포터 백터 머신\n",
    "1. __Nearest Neighbor__ : 근접거리를 기준으로 하는 최소 알고리즘\n",
    "1. __Neural Network__ : 심층 연결 기반의 신경망\n",
    "1. __Ensembke__ : 서로다른 머신러닝 알고리즘을 결합한 앙상블\n"
   ]
  },
  {
   "attachments": {},
   "cell_type": "markdown",
   "metadata": {},
   "source": [
    "- 이미지,영상,음성,NLP영역에서는 신경망 기반의 딥러닝 머신러닝이 선도\n",
    "- 정형화 데이터의 분석영역에서는 Tree기반 앙상블 모델의 예측성능이 띄어남\n",
    "\n",
    "## 앙상블(Bagging vs Boosting)\n",
    "\n",
    "### Bagging\n",
    "- 배깅 방식의 대표적인 알고리즘은 랜덤포레스트(Random Forest)로 뛰어난 예측 성능, 상대적으로 빠른 수행 시간, 유연성등으로 애용되는 알고리즘\n",
    "\n",
    "### Boosting\n",
    "- 최근 부스팅의 기법의 발전이 거듭되고 있다.\n",
    "- 부스팅의 효시는 그레디언트 부스팅(Grdient Boosting)의 경우 매우 뛰어난 예측성능을 보여준다.\n",
    "- 수행시간이 매우 오래 걸리고 이로인해 최적화된 모델 튜닝에 어려움이 있다.\n",
    "- LighGBM, Xgboost등 기존의 그래디언트 부스팅의 예측 성능을 한단계 발전시키면서도 수행 시간을 단축시키는 알고리즘이 생겨나고 있다.\n",
    "- 현재는 정형 데이터의 분류 영역에서 가장 활용도가 높은 알고리즘으로 자리잡고 있다.\n",
    "\n",
    "\n",
    "\n"
   ]
  }
 ],
 "metadata": {
  "language_info": {
   "name": "python"
  },
  "orig_nbformat": 4
 },
 "nbformat": 4,
 "nbformat_minor": 2
}
